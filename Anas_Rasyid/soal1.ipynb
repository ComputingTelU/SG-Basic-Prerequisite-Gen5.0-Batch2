{
  "nbformat": 4,
  "nbformat_minor": 0,
  "metadata": {
    "kernelspec": {
      "name": "python3",
      "display_name": "Python 3"
    },
    "language_info": {
      "codemirror_mode": {
        "name": "ipython",
        "version": 3
      },
      "file_extension": ".py",
      "mimetype": "text/x-python",
      "name": "python",
      "nbconvert_exporter": "python",
      "pygments_lexer": "ipython3",
      "version": "3.6.8"
    },
    "colab": {
      "name": "soal1.ipynb",
      "version": "0.3.2",
      "provenance": [],
      "collapsed_sections": []
    },
    "accelerator": "GPU"
  },
  "cells": [
    {
      "cell_type": "markdown",
      "metadata": {
        "id": "nptNQX2he7XK",
        "colab_type": "text"
      },
      "source": [
        "# Prerequisite SG Computing Laboratory Batch II 2019\n",
        "\n",
        "These notebook is to answer some questions about a very first step to be a data scientist. After answering these questions, we hope that you will be more familiar with `pandas` and visualize the data provided.\n",
        "\n",
        "References:\n",
        "- [Pandas](https://pandas.pydata.org/pandas-docs/stable/index.html)\n",
        "- [Pandas Visualization](https://pandas.pydata.org/pandas-docs/stable/user_guide/visualization.html)\n",
        "\n",
        "\n",
        "## Pandas\n",
        "We will start off by using a powerful Python data analysis library by the name of `pandas`. To install `pandas` pip and conda can be used\n",
        "\n",
        "```{python}\n",
        "pip install pandas\n",
        "or\n",
        "conda install pandas\n",
        "```"
      ]
    },
    {
      "cell_type": "code",
      "metadata": {
        "id": "Yiwxj_i3e7XL",
        "colab_type": "code",
        "colab": {}
      },
      "source": [
        "# import the library here\n",
        "import pandas as pd"
      ],
      "execution_count": 0,
      "outputs": []
    },
    {
      "cell_type": "markdown",
      "metadata": {
        "id": "K5ws2llLe7XN",
        "colab_type": "text"
      },
      "source": [
        "Let's start with reading our first dataset, `bank-full.csv`. The dataset is related with direct marketing campaigns of a Portuguese banking institution. The marketing campaigns were based on phone calls. Often, more than one contact to the same client was required, in order to access if the product (bank term deposit) would be (or not) subscribed. The classification goal is to predict if the client will subscribe a term deposit (variable y).\n",
        "\n",
        "Attribute information:\n",
        "   \n",
        "`age`\n",
        "\n",
        "`job` : type of job\n",
        "\n",
        "`marital` : marital status\n",
        "\n",
        "`education`\n",
        "\n",
        "`default`: has credit in default?\n",
        "\n",
        "`balance`: average yearly balance, in euros \n",
        "\n",
        "`housing`: has housing loan?\n",
        "\n",
        "`loan`: has personal loan?\n",
        "   \n",
        "`contact`: contact communication type\n",
        "\n",
        "`day`: last contact day of the month (numeric)\n",
        "\n",
        "`month`: last contact month of year\n",
        "\n",
        "`duration`: last contact duration, in seconds\n",
        "\n",
        "`campaign`: number of contacts performed during this campaign and for this client\n",
        "\n",
        "`pdays`: number of days that passed by after the client was last contacted from a previous campaign (-1 means client was not previously contacted)\n",
        "\n",
        "`previous`: number of contacts performed before this campaign and for this client\n",
        "\n",
        "`poutcome`: outcome of the previous marketing campaign\n",
        "\n",
        "`y`: has the client subscribed a term deposit?"
      ]
    },
    {
      "cell_type": "code",
      "metadata": {
        "id": "GHaSd9WIe7XO",
        "colab_type": "code",
        "colab": {}
      },
      "source": [
        "# load the dataset here and assign it into a variable called 'bank'\n",
        "bank = pd.read_csv('/soal1-testcase.csv', delimiter = ';')"
      ],
      "execution_count": 0,
      "outputs": []
    },
    {
      "cell_type": "markdown",
      "metadata": {
        "id": "-kc9XGeve7XQ",
        "colab_type": "text"
      },
      "source": [
        "if you have no idea about the data, you can use `.head()` to show first five rows of the data or you can use `.tail()` to show 5 last five rows of the data"
      ]
    },
    {
      "cell_type": "code",
      "metadata": {
        "id": "grAwwA_Pe7XR",
        "colab_type": "code",
        "outputId": "034cd6b6-e453-444b-cc90-5590655af7e9",
        "colab": {
          "base_uri": "https://localhost:8080/",
          "height": 195
        }
      },
      "source": [
        "# show first or last five rows of the data\n",
        "bank.head()"
      ],
      "execution_count": 0,
      "outputs": [
        {
          "output_type": "execute_result",
          "data": {
            "text/html": [
              "<div>\n",
              "<style scoped>\n",
              "    .dataframe tbody tr th:only-of-type {\n",
              "        vertical-align: middle;\n",
              "    }\n",
              "\n",
              "    .dataframe tbody tr th {\n",
              "        vertical-align: top;\n",
              "    }\n",
              "\n",
              "    .dataframe thead th {\n",
              "        text-align: right;\n",
              "    }\n",
              "</style>\n",
              "<table border=\"1\" class=\"dataframe\">\n",
              "  <thead>\n",
              "    <tr style=\"text-align: right;\">\n",
              "      <th></th>\n",
              "      <th>age</th>\n",
              "      <th>job</th>\n",
              "      <th>marital</th>\n",
              "      <th>education</th>\n",
              "      <th>default</th>\n",
              "      <th>balance</th>\n",
              "      <th>housing</th>\n",
              "      <th>loan</th>\n",
              "      <th>contact</th>\n",
              "      <th>day</th>\n",
              "      <th>month</th>\n",
              "      <th>duration</th>\n",
              "      <th>campaign</th>\n",
              "      <th>pdays</th>\n",
              "      <th>previous</th>\n",
              "      <th>poutcome</th>\n",
              "      <th>y</th>\n",
              "    </tr>\n",
              "  </thead>\n",
              "  <tbody>\n",
              "    <tr>\n",
              "      <th>0</th>\n",
              "      <td>58</td>\n",
              "      <td>management</td>\n",
              "      <td>married</td>\n",
              "      <td>tertiary</td>\n",
              "      <td>no</td>\n",
              "      <td>2143</td>\n",
              "      <td>yes</td>\n",
              "      <td>no</td>\n",
              "      <td>unknown</td>\n",
              "      <td>5</td>\n",
              "      <td>may</td>\n",
              "      <td>261</td>\n",
              "      <td>1</td>\n",
              "      <td>-1</td>\n",
              "      <td>0</td>\n",
              "      <td>unknown</td>\n",
              "      <td>no</td>\n",
              "    </tr>\n",
              "    <tr>\n",
              "      <th>1</th>\n",
              "      <td>44</td>\n",
              "      <td>technician</td>\n",
              "      <td>single</td>\n",
              "      <td>secondary</td>\n",
              "      <td>no</td>\n",
              "      <td>29</td>\n",
              "      <td>yes</td>\n",
              "      <td>no</td>\n",
              "      <td>unknown</td>\n",
              "      <td>5</td>\n",
              "      <td>may</td>\n",
              "      <td>151</td>\n",
              "      <td>1</td>\n",
              "      <td>-1</td>\n",
              "      <td>0</td>\n",
              "      <td>unknown</td>\n",
              "      <td>no</td>\n",
              "    </tr>\n",
              "    <tr>\n",
              "      <th>2</th>\n",
              "      <td>33</td>\n",
              "      <td>entrepreneur</td>\n",
              "      <td>married</td>\n",
              "      <td>secondary</td>\n",
              "      <td>no</td>\n",
              "      <td>2</td>\n",
              "      <td>yes</td>\n",
              "      <td>yes</td>\n",
              "      <td>unknown</td>\n",
              "      <td>5</td>\n",
              "      <td>may</td>\n",
              "      <td>76</td>\n",
              "      <td>1</td>\n",
              "      <td>-1</td>\n",
              "      <td>0</td>\n",
              "      <td>unknown</td>\n",
              "      <td>no</td>\n",
              "    </tr>\n",
              "    <tr>\n",
              "      <th>3</th>\n",
              "      <td>47</td>\n",
              "      <td>blue-collar</td>\n",
              "      <td>married</td>\n",
              "      <td>unknown</td>\n",
              "      <td>no</td>\n",
              "      <td>1506</td>\n",
              "      <td>yes</td>\n",
              "      <td>no</td>\n",
              "      <td>unknown</td>\n",
              "      <td>5</td>\n",
              "      <td>may</td>\n",
              "      <td>92</td>\n",
              "      <td>1</td>\n",
              "      <td>-1</td>\n",
              "      <td>0</td>\n",
              "      <td>unknown</td>\n",
              "      <td>no</td>\n",
              "    </tr>\n",
              "    <tr>\n",
              "      <th>4</th>\n",
              "      <td>33</td>\n",
              "      <td>unknown</td>\n",
              "      <td>single</td>\n",
              "      <td>unknown</td>\n",
              "      <td>no</td>\n",
              "      <td>1</td>\n",
              "      <td>no</td>\n",
              "      <td>no</td>\n",
              "      <td>unknown</td>\n",
              "      <td>5</td>\n",
              "      <td>may</td>\n",
              "      <td>198</td>\n",
              "      <td>1</td>\n",
              "      <td>-1</td>\n",
              "      <td>0</td>\n",
              "      <td>unknown</td>\n",
              "      <td>no</td>\n",
              "    </tr>\n",
              "  </tbody>\n",
              "</table>\n",
              "</div>"
            ],
            "text/plain": [
              "   age           job  marital  education  ... pdays  previous poutcome   y\n",
              "0   58    management  married   tertiary  ...    -1         0  unknown  no\n",
              "1   44    technician   single  secondary  ...    -1         0  unknown  no\n",
              "2   33  entrepreneur  married  secondary  ...    -1         0  unknown  no\n",
              "3   47   blue-collar  married    unknown  ...    -1         0  unknown  no\n",
              "4   33       unknown   single    unknown  ...    -1         0  unknown  no\n",
              "\n",
              "[5 rows x 17 columns]"
            ]
          },
          "metadata": {
            "tags": []
          },
          "execution_count": 37
        }
      ]
    },
    {
      "cell_type": "markdown",
      "metadata": {
        "id": "KCqE-Rkre7XT",
        "colab_type": "text"
      },
      "source": [
        "But how about the size of our dataset? To get that information we can use `.shape` to show how many rows and columns that our data have"
      ]
    },
    {
      "cell_type": "code",
      "metadata": {
        "id": "ON4yI6Gpe7XU",
        "colab_type": "code",
        "outputId": "f26f35e3-5251-4299-dc19-815d32f7d227",
        "colab": {
          "base_uri": "https://localhost:8080/",
          "height": 34
        }
      },
      "source": [
        "# get the size of our data\n",
        "bank.shape"
      ],
      "execution_count": 0,
      "outputs": [
        {
          "output_type": "execute_result",
          "data": {
            "text/plain": [
              "(45211, 17)"
            ]
          },
          "metadata": {
            "tags": []
          },
          "execution_count": 38
        }
      ]
    },
    {
      "cell_type": "markdown",
      "metadata": {
        "id": "SZvpLNEse7XW",
        "colab_type": "text"
      },
      "source": [
        "The results of our code above will be in `(x, y)` format. `x` means how many rows that our data have and `y` means how many columns/atribute/feature that our data have.\n",
        "\n",
        "Since we have `y` columns, we still don't know what is the data type of our columns. To show all columns and each data types we can use `.dtypes`. Let's try it below."
      ]
    },
    {
      "cell_type": "code",
      "metadata": {
        "id": "KuuPnusVe7XW",
        "colab_type": "code",
        "outputId": "e1e2626e-5747-4c93-be84-bd3a55aad26d",
        "colab": {
          "base_uri": "https://localhost:8080/",
          "height": 319
        }
      },
      "source": [
        "# Your code here\n",
        "bank.dtypes"
      ],
      "execution_count": 0,
      "outputs": [
        {
          "output_type": "execute_result",
          "data": {
            "text/plain": [
              "age           int64\n",
              "job          object\n",
              "marital      object\n",
              "education    object\n",
              "default      object\n",
              "balance       int64\n",
              "housing      object\n",
              "loan         object\n",
              "contact      object\n",
              "day           int64\n",
              "month        object\n",
              "duration      int64\n",
              "campaign      int64\n",
              "pdays         int64\n",
              "previous      int64\n",
              "poutcome     object\n",
              "y            object\n",
              "dtype: object"
            ]
          },
          "metadata": {
            "tags": []
          },
          "execution_count": 39
        }
      ]
    },
    {
      "cell_type": "markdown",
      "metadata": {
        "id": "1n8mfPzHe7XZ",
        "colab_type": "text"
      },
      "source": [
        "As you can see there's so many objects in our data. For example there's a `education` column, but how many unique values and it's distribution in `education` column? You can use `.value_counts()`. If we want to show the precentage, we can pass a paratameter `normalize=True` in `.value_counts()`. Please show us the distribution of unique values in `education` column."
      ]
    },
    {
      "cell_type": "code",
      "metadata": {
        "id": "CzvhFfZne7XZ",
        "colab_type": "code",
        "outputId": "cbdb567a-56e7-4ecb-b1d1-f5c0748f4dba",
        "colab": {
          "base_uri": "https://localhost:8080/",
          "height": 101
        }
      },
      "source": [
        "# Your code here\n",
        "bank.education.value_counts()"
      ],
      "execution_count": 0,
      "outputs": [
        {
          "output_type": "execute_result",
          "data": {
            "text/plain": [
              "secondary    23202\n",
              "tertiary     13301\n",
              "primary       6851\n",
              "unknown       1857\n",
              "Name: education, dtype: int64"
            ]
          },
          "metadata": {
            "tags": []
          },
          "execution_count": 40
        }
      ]
    },
    {
      "cell_type": "markdown",
      "metadata": {
        "id": "sBrmXHjle7Xb",
        "colab_type": "text"
      },
      "source": [
        "## Data Visualization\n",
        "\n",
        "Data visualization is the discipline of trying to understand data by placing it in a visual context so that patterns, trends and correlations that might not otherwise be detected can be exposed.\n",
        "Python offers multiple great graphing libraries that come packed with lots of different features. No matter if you want to create interactive, live or highly customized plots python has an excellent library for you.\n",
        "To get a little overview here are a few popular plotting libraries:\n",
        "- Matplotlib: low level, provides lots of freedom\n",
        "- Pandas Visualization: easy to use interface, built on Matplotlib\n",
        "- Seaborn: high-level interface, great default styles\n",
        "- ggplot: based on R’s ggplot2, uses Grammar of Graphics\n",
        "- Plotly: can create interactive plots\n",
        "\n",
        "For answering the questions you just need `pandas`, so you don't to install another tools but if you want to install it's great!.\n",
        "\n",
        "Plotting methods allow for a handful of plot styles other than the default line plot. These methods can be provided as the kind keyword argument to `plot()`, and include:\n",
        "\n",
        "- ‘bar’ or ‘barh’ for bar plots\n",
        "- ‘hist’ for histogram\n",
        "- ‘box’ for boxplot\n",
        "- ‘kde’ or ‘density’ for density plots\n",
        "- ‘area’ for area plots\n",
        "- ‘scatter’ for scatter plots\n",
        "- ‘hexbin’ for hexagonal bin plots\n",
        "- ‘pie’ for pie plots\n",
        "\n",
        "The plot method on Series and DataFrame is just a simple wrapper around `plt.plot()`"
      ]
    },
    {
      "cell_type": "markdown",
      "metadata": {
        "id": "ISGYRHJEe7Xc",
        "colab_type": "text"
      },
      "source": [
        "## Questions\n",
        "\n",
        "1. How is the correlation between `balance` and `age`? You can use scatter plot to show the relationship. Scatter plot might be one of the most used types of plot in understanding the distribution between numeric data."
      ]
    },
    {
      "cell_type": "code",
      "metadata": {
        "id": "qWR6dWqQe7Xd",
        "colab_type": "code",
        "outputId": "6307a438-92db-46fe-a511-00240a83ac75",
        "colab": {
          "base_uri": "https://localhost:8080/",
          "height": 300
        }
      },
      "source": [
        "# Your code here\n",
        "bank.plot(kind='scatter',x='balance',y='age')"
      ],
      "execution_count": 0,
      "outputs": [
        {
          "output_type": "execute_result",
          "data": {
            "text/plain": [
              "<matplotlib.axes._subplots.AxesSubplot at 0x7f738cf8a518>"
            ]
          },
          "metadata": {
            "tags": []
          },
          "execution_count": 41
        },
        {
          "output_type": "display_data",
          "data": {
            "image/png": "[encoded data removed]",
            "text/plain": [
              "<Figure size 432x288 with 1 Axes>"
            ]
          },
          "metadata": {
            "tags": []
          }
        }
      ]
    },
    {
      "cell_type": "markdown",
      "metadata": {
        "id": "UTyLiIV5e7Xh",
        "colab_type": "text"
      },
      "source": [
        "2. A bar plot is fundamentally the plot to compare different group of data. Using bar plot show us category comparison using bar plot in `job` column."
      ]
    },
    {
      "cell_type": "code",
      "metadata": {
        "colab_type": "code",
        "id": "dFq0lVf3pzuv",
        "outputId": "d64b10f6-8ac4-41ca-cd60-0e8b8424c296",
        "colab": {
          "base_uri": "https://localhost:8080/",
          "height": 346
        }
      },
      "source": [
        "# Your code here\n",
        "bank.job.value_counts().plot.bar()"
      ],
      "execution_count": 0,
      "outputs": [
        {
          "output_type": "execute_result",
          "data": {
            "text/plain": [
              "<matplotlib.axes._subplots.AxesSubplot at 0x7f738d0f30f0>"
            ]
          },
          "metadata": {
            "tags": []
          },
          "execution_count": 42
        },
        {
          "output_type": "display_data",
          "data": {
            "image/png": "[encoded data removed]",
            "text/plain": [
              "<Figure size 432x288 with 1 Axes>"
            ]
          },
          "metadata": {
            "tags": []
          }
        }
      ]
    },
    {
      "cell_type": "markdown",
      "metadata": {
        "id": "TxKczLCFe7Xk",
        "colab_type": "text"
      },
      "source": [
        "3. How is the percentage of marital status in our data? You can use pie plot or bar plot but give us a reason why you use that chart"
      ]
    },
    {
      "cell_type": "code",
      "metadata": {
        "colab_type": "code",
        "id": "oteHMgl2rAdo",
        "outputId": "d6ed5fba-a66d-4e0b-fb41-82e189745efe",
        "colab": {
          "base_uri": "https://localhost:8080/",
          "height": 326
        }
      },
      "source": [
        "# Your code here\n",
        "bank.marital.value_counts().plot.pie(figsize=(5, 5))"
      ],
      "execution_count": 0,
      "outputs": [
        {
          "output_type": "execute_result",
          "data": {
            "text/plain": [
              "<matplotlib.axes._subplots.AxesSubplot at 0x7f738ce81898>"
            ]
          },
          "metadata": {
            "tags": []
          },
          "execution_count": 43
        },
        {
          "output_type": "display_data",
          "data": {
            "image/png": "[encoded data removed]",
            "text/plain": [
              "<Figure size 360x360 with 1 Axes>"
            ]
          },
          "metadata": {
            "tags": []
          }
        }
      ]
    },
    {
      "cell_type": "markdown",
      "metadata": {
        "id": "xzV8xzgle7Xo",
        "colab_type": "text"
      },
      "source": [
        "4. Boxplot is summary of sample distribution that presented graphically that can describe the form of data distribution (skewness), the size of the central tendency and the size of the spread (diversity) of observational data. Show us the box plot of `duration`. Is there an outlier or extreme value in `duration` column?"
      ]
    },
    {
      "cell_type": "code",
      "metadata": {
        "id": "QnRWG3J7e7Xo",
        "colab_type": "code",
        "outputId": "491a91ea-da3a-43ec-eeaf-c1ad6358e96b",
        "colab": {
          "base_uri": "https://localhost:8080/",
          "height": 286
        }
      },
      "source": [
        "# Your code here\n",
        "bank.boxplot(column =['duration']) "
      ],
      "execution_count": 0,
      "outputs": [
        {
          "output_type": "execute_result",
          "data": {
            "text/plain": [
              "<matplotlib.axes._subplots.AxesSubplot at 0x7f738d46a080>"
            ]
          },
          "metadata": {
            "tags": []
          },
          "execution_count": 44
        },
        {
          "output_type": "display_data",
          "data": {
            "image/png": "[encoded data removed]",
            "text/plain": [
              "<Figure size 432x288 with 1 Axes>"
            ]
          },
          "metadata": {
            "tags": []
          }
        }
      ]
    }
  ]
}