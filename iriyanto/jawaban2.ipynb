{
 "cells": [
  {
   "cell_type": "code",
   "execution_count": 2,
   "metadata": {},
   "outputs": [],
   "source": [
    "import re"
   ]
  },
  {
   "cell_type": "code",
   "execution_count": 3,
   "metadata": {},
   "outputs": [
    {
     "name": "stdout",
     "output_type": "stream",
     "text": [
      "['00:11', '06:30', '13:45', '23:59']\n"
     ]
    }
   ],
   "source": [
    "# Waktu\n",
    "\n",
    "text = 'Kereta akan melewati stasiun Bandung pada pukul 00:11, 06:30, 13:45, dan 23:59'\n",
    "result = re.findall('\\d{2}:\\d{2}', text)\n",
    "\n",
    "print(result)"
   ]
  },
  {
   "cell_type": "code",
   "execution_count": 19,
   "metadata": {},
   "outputs": [
    {
     "name": "stdout",
     "output_type": "stream",
     "text": [
      "['300']\n"
     ]
    }
   ],
   "source": [
    "# Uang\n",
    "\n",
    "text = 'Aset lab Computing totalnya bernilai sekitar 300 Juta Rupiah'\n",
    "result = re.findall('[0-9]+', text)\n",
    "\n",
    "print(result)"
   ]
  },
  {
   "cell_type": "code",
   "execution_count": 16,
   "metadata": {},
   "outputs": [
    {
     "name": "stdout",
     "output_type": "stream",
     "text": [
      "['lab-computing@telkomuniversity.ac.id']\n"
     ]
    }
   ],
   "source": [
    "# Email\n",
    "\n",
    "text = 'ini email lab lab-computing@telkomuniversity.ac.id'\n",
    "result = re.findall('\\S+@\\S+\\.+\\S+', text)\n",
    "\n",
    "print(result)"
   ]
  }
 ],
 "metadata": {
  "kernelspec": {
   "display_name": "Python 3",
   "language": "python",
   "name": "python3"
  },
  "language_info": {
   "codemirror_mode": {
    "name": "ipython",
    "version": 3
   },
   "file_extension": ".py",
   "mimetype": "text/x-python",
   "name": "python",
   "nbconvert_exporter": "python",
   "pygments_lexer": "ipython3",
   "version": "3.7.3"
  }
 },
 "nbformat": 4,
 "nbformat_minor": 2
}
